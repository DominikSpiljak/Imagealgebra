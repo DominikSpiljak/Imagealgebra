{
 "cells": [
  {
   "cell_type": "code",
   "execution_count": 5,
   "metadata": {},
   "outputs": [],
   "source": [
    "from utils.image_processing import vectorize\n",
    "import os\n",
    "import numpy as np\n",
    "from tqdm import tqdm"
   ]
  },
  {
   "cell_type": "code",
   "execution_count": 6,
   "metadata": {},
   "outputs": [
    {
     "name": "stderr",
     "output_type": "stream",
     "text": [
      "100%|██████████| 648/648 [00:00<00:00, 3827.76it/s]\n",
      "100%|██████████| 616/616 [00:00<00:00, 4075.54it/s]\n",
      "100%|██████████| 642/642 [00:00<00:00, 4117.61it/s]\n",
      "100%|██████████| 601/601 [00:00<00:00, 3729.17it/s]\n",
      "100%|██████████| 639/639 [00:00<00:00, 4003.65it/s]\n",
      "100%|██████████| 638/638 [00:00<00:00, 4231.04it/s]\n",
      "100%|██████████| 749/749 [00:00<00:00, 3808.63it/s]\n",
      "100%|██████████| 199/199 [00:00<00:00, 9396.75it/s]\n",
      "100%|██████████| 641/641 [00:00<00:00, 3753.57it/s]\n",
      "100%|██████████| 751/751 [00:00<00:00, 4013.73it/s]\n",
      "100%|██████████| 200/200 [00:00<00:00, 10089.37it/s]\n",
      "100%|██████████| 626/626 [00:00<00:00, 4166.12it/s]\n",
      "100%|██████████| 626/626 [00:00<00:00, 4339.39it/s]\n",
      "100%|██████████| 630/630 [00:00<00:00, 4366.99it/s]\n",
      "100%|██████████| 762/762 [00:00<00:00, 3704.86it/s]\n",
      "100%|██████████| 199/199 [00:00<00:00, 9002.40it/s]\n"
     ]
    }
   ],
   "source": [
    "label_map = {\n",
    "    '+': 10,\n",
    "    '-': 11,\n",
    "    'times': 12,\n",
    "    'forward_slash': 13,\n",
    "    '(': 14,\n",
    "    ')': 15\n",
    "}\n",
    "\n",
    "X = []\n",
    "y = []\n",
    "file_names = []\n",
    "\n",
    "for symbol in os.listdir(\"small_dataset/\"):\n",
    "    try:\n",
    "        label = int(symbol)\n",
    "    except:\n",
    "        label = label_map[symbol]\n",
    "    \n",
    "    for image in tqdm(os.listdir(os.path.join('small_dataset', symbol))):\n",
    "        image_path = os.path.join('small_dataset', symbol, image)\n",
    "        features = vectorize(image_path)\n",
    "        X.append(features)\n",
    "        file_names.append(image_path)\n",
    "        y.append(label)\n",
    "\n",
    "X = np.array(X)\n",
    "y = np.array(y)"
   ]
  },
  {
   "cell_type": "code",
   "execution_count": 7,
   "metadata": {},
   "outputs": [],
   "source": [
    "np.savez('small_data.npz', X=X, y=y)\n",
    "with open('small_filepaths.txt', 'w') as out:\n",
    "    out.write('\\n'.join(file_names))"
   ]
  },
  {
   "cell_type": "code",
   "execution_count": null,
   "metadata": {},
   "outputs": [],
   "source": []
  }
 ],
 "metadata": {
  "kernelspec": {
   "display_name": "Python 3",
   "language": "python",
   "name": "python3"
  },
  "language_info": {
   "codemirror_mode": {
    "name": "ipython",
    "version": 3
   },
   "file_extension": ".py",
   "mimetype": "text/x-python",
   "name": "python",
   "nbconvert_exporter": "python",
   "pygments_lexer": "ipython3",
   "version": "3.8.3"
  }
 },
 "nbformat": 4,
 "nbformat_minor": 4
}
