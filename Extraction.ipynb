{
 "cells": [
  {
   "cell_type": "code",
   "execution_count": 1,
   "metadata": {},
   "outputs": [],
   "source": [
    "from utils.image_processing import vectorize\n",
    "import os\n",
    "import numpy as np\n",
    "from tqdm import tqdm"
   ]
  },
  {
   "cell_type": "code",
   "execution_count": 2,
   "metadata": {},
   "outputs": [
    {
     "name": "stderr",
     "output_type": "stream",
     "text": [
      "100%|██████████| 516/516 [00:00<00:00, 3747.82it/s]\n",
      "100%|██████████| 350/350 [00:00<00:00, 7177.57it/s]\n",
      "100%|██████████| 532/532 [00:00<00:00, 3815.05it/s]\n",
      "100%|██████████| 601/601 [00:00<00:00, 3636.65it/s]\n",
      "100%|██████████| 639/639 [00:00<00:00, 3812.58it/s]\n",
      "100%|██████████| 675/675 [00:00<00:00, 4060.30it/s]\n",
      "100%|██████████| 710/710 [00:00<00:00, 3878.54it/s]\n",
      "100%|██████████| 305/305 [00:00<00:00, 5791.79it/s]\n",
      "100%|██████████| 454/454 [00:00<00:00, 3971.96it/s]\n",
      "100%|██████████| 737/737 [00:00<00:00, 4077.61it/s]\n",
      "100%|██████████| 200/200 [00:00<00:00, 9164.47it/s]\n",
      "100%|██████████| 238/238 [00:00<00:00, 5348.19it/s]\n",
      "100%|██████████| 657/657 [00:00<00:00, 4378.06it/s]\n",
      "100%|██████████| 578/578 [00:00<00:00, 3408.39it/s]\n",
      "100%|██████████| 718/718 [00:00<00:00, 3628.34it/s]\n",
      "100%|██████████| 199/199 [00:00<00:00, 9503.21it/s]\n"
     ]
    }
   ],
   "source": [
    "label_map = {\n",
    "    '+': 10,\n",
    "    '-': 11,\n",
    "    'times': 12,\n",
    "    'forward_slash': 13,\n",
    "    '(': 14,\n",
    "    ')': 15\n",
    "}\n",
    "\n",
    "X = []\n",
    "y = []\n",
    "file_names = []\n",
    "\n",
    "for symbol in os.listdir(\"small_dataset/\"):\n",
    "    try:\n",
    "        label = int(symbol)\n",
    "    except:\n",
    "        label = label_map[symbol]\n",
    "    \n",
    "    for image in tqdm(os.listdir(os.path.join('small_dataset', symbol))):\n",
    "        image_path = os.path.join('small_dataset', symbol, image)\n",
    "        features = vectorize(image_path)\n",
    "        X.append(features)\n",
    "        file_names.append(image_path)\n",
    "        y.append(label)\n",
    "\n",
    "X = np.array(X)\n",
    "y = np.array(y)"
   ]
  },
  {
   "cell_type": "code",
   "execution_count": 3,
   "metadata": {},
   "outputs": [],
   "source": [
    "np.savez('small_data_refined.npz', X=X, y=y)\n",
    "\n",
    "with open('small_filepaths_refined.txt', 'w') as out:\n",
    "    out.write('\\n'.join(file_names))"
   ]
  },
  {
   "cell_type": "code",
   "execution_count": null,
   "metadata": {},
   "outputs": [],
   "source": []
  }
 ],
 "metadata": {
  "kernelspec": {
   "display_name": "Python 3",
   "language": "python",
   "name": "python3"
  },
  "language_info": {
   "codemirror_mode": {
    "name": "ipython",
    "version": 3
   },
   "file_extension": ".py",
   "mimetype": "text/x-python",
   "name": "python",
   "nbconvert_exporter": "python",
   "pygments_lexer": "ipython3",
   "version": "3.8.3"
  }
 },
 "nbformat": 4,
 "nbformat_minor": 4
}
