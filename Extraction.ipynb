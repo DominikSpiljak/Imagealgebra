{
 "cells": [
  {
   "cell_type": "code",
   "execution_count": 9,
   "metadata": {},
   "outputs": [],
   "source": [
    "import cv2 as cv\n",
    "import numpy\n",
    "import matplotlib.pyplot as plt\n",
    "import os\n",
    "from tqdm import tqdm"
   ]
  },
  {
   "cell_type": "code",
   "execution_count": 10,
   "metadata": {},
   "outputs": [],
   "source": [
    "def load_and_process_image(path):\n",
    "    img = cv.imread(path)\n",
    "    img_gray = cv.cvtColor(img, cv.COLOR_BGR2GRAY)\n",
    "    img_invert = cv.bitwise_not(img_gray)\n",
    "    return img_invert\n",
    "\n",
    "def find_and_crop_bounding_box(image):\n",
    "    ret, thresh = cv.threshold(image, 127, 255, 0)\n",
    "    contours, hierarchy = cv.findContours(thresh, cv.RETR_TREE, cv.CHAIN_APPROX_SIMPLE)\n",
    "\n",
    "    #In case of multiple contours, take one with the biggest area\n",
    "    x, y, width, height = cv.boundingRect(sorted(contours, key=cv.contourArea)[-1])\n",
    "    image = image[y:y+height, x:x+width]\n",
    "    return image\n",
    "\n",
    "def vectorize(path):\n",
    "    img = load_and_process_image(path)\n",
    "    img = find_and_crop_bounding_box(img)\n",
    "    img = cv.resize(img, (30, 30))\n",
    "    img = img.reshape(900,)\n",
    "    return img"
   ]
  },
  {
   "cell_type": "code",
   "execution_count": 11,
   "metadata": {},
   "outputs": [
    {
     "name": "stderr",
     "output_type": "stream",
     "text": [
      "  1%|▏         | 44/3068 [00:00<00:06, 439.47it/s]"
     ]
    },
    {
     "name": "stdout",
     "output_type": "stream",
     "text": [
      "Processing: 8\n"
     ]
    },
    {
     "name": "stderr",
     "output_type": "stream",
     "text": [
      "100%|██████████| 3068/3068 [00:04<00:00, 690.88it/s]\n",
      "  0%|          | 57/26520 [00:00<00:46, 568.44it/s]"
     ]
    },
    {
     "name": "stdout",
     "output_type": "stream",
     "text": [
      "Processing: 1\n"
     ]
    },
    {
     "name": "stderr",
     "output_type": "stream",
     "text": [
      "100%|██████████| 26520/26520 [00:42<00:00, 627.46it/s]\n",
      "  0%|          | 64/26141 [00:00<00:40, 639.55it/s]"
     ]
    },
    {
     "name": "stdout",
     "output_type": "stream",
     "text": [
      "Processing: 2\n"
     ]
    },
    {
     "name": "stderr",
     "output_type": "stream",
     "text": [
      "100%|██████████| 26141/26141 [01:10<00:00, 373.19it/s]\n",
      "  1%|          | 61/6914 [00:00<00:11, 604.36it/s]"
     ]
    },
    {
     "name": "stdout",
     "output_type": "stream",
     "text": [
      "Processing: 0\n"
     ]
    },
    {
     "name": "stderr",
     "output_type": "stream",
     "text": [
      "100%|██████████| 6914/6914 [00:10<00:00, 667.51it/s]\n",
      "  2%|▏         | 50/3118 [00:00<00:06, 494.75it/s]"
     ]
    },
    {
     "name": "stdout",
     "output_type": "stream",
     "text": [
      "Processing: 6\n"
     ]
    },
    {
     "name": "stderr",
     "output_type": "stream",
     "text": [
      "100%|██████████| 3118/3118 [00:04<00:00, 640.43it/s]\n",
      "  0%|          | 48/10909 [00:00<00:22, 474.78it/s]"
     ]
    },
    {
     "name": "stdout",
     "output_type": "stream",
     "text": [
      "Processing: 3\n"
     ]
    },
    {
     "name": "stderr",
     "output_type": "stream",
     "text": [
      "100%|██████████| 10909/10909 [00:17<00:00, 640.37it/s]\n",
      "  0%|          | 42/25112 [00:00<01:00, 414.95it/s]"
     ]
    },
    {
     "name": "stdout",
     "output_type": "stream",
     "text": [
      "Processing: +\n"
     ]
    },
    {
     "name": "stderr",
     "output_type": "stream",
     "text": [
      "100%|██████████| 25112/25112 [00:39<00:00, 628.13it/s]\n",
      " 34%|███▍      | 68/199 [00:00<00:00, 677.56it/s]"
     ]
    },
    {
     "name": "stdout",
     "output_type": "stream",
     "text": [
      "Processing: forward_slash\n"
     ]
    },
    {
     "name": "stderr",
     "output_type": "stream",
     "text": [
      "100%|██████████| 199/199 [00:00<00:00, 689.01it/s]\n",
      "  2%|▏         | 58/3737 [00:00<00:06, 579.81it/s]"
     ]
    },
    {
     "name": "stdout",
     "output_type": "stream",
     "text": [
      "Processing: 9\n"
     ]
    },
    {
     "name": "stderr",
     "output_type": "stream",
     "text": [
      "100%|██████████| 3737/3737 [00:05<00:00, 663.97it/s]\n",
      "  0%|          | 39/33997 [00:00<01:28, 385.43it/s]"
     ]
    },
    {
     "name": "stdout",
     "output_type": "stream",
     "text": [
      "Processing: -\n"
     ]
    },
    {
     "name": "stderr",
     "output_type": "stream",
     "text": [
      "100%|██████████| 33997/33997 [00:56<00:00, 602.93it/s]\n",
      "  0%|          | 41/14294 [00:00<00:35, 398.59it/s]"
     ]
    },
    {
     "name": "stdout",
     "output_type": "stream",
     "text": [
      "Processing: (\n"
     ]
    },
    {
     "name": "stderr",
     "output_type": "stream",
     "text": [
      "100%|██████████| 14294/14294 [00:24<00:00, 577.55it/s]\n",
      "  2%|▏         | 58/2909 [00:00<00:04, 576.76it/s]"
     ]
    },
    {
     "name": "stdout",
     "output_type": "stream",
     "text": [
      "Processing: 7\n"
     ]
    },
    {
     "name": "stderr",
     "output_type": "stream",
     "text": [
      "100%|██████████| 2909/2909 [00:04<00:00, 604.65it/s]\n",
      "  1%|▏         | 49/3545 [00:00<00:07, 487.29it/s]"
     ]
    },
    {
     "name": "stdout",
     "output_type": "stream",
     "text": [
      "Processing: 5\n"
     ]
    },
    {
     "name": "stderr",
     "output_type": "stream",
     "text": [
      "100%|██████████| 3545/3545 [00:05<00:00, 604.14it/s]\n",
      "  1%|          | 44/7396 [00:00<00:16, 434.55it/s]"
     ]
    },
    {
     "name": "stdout",
     "output_type": "stream",
     "text": [
      "Processing: 4\n"
     ]
    },
    {
     "name": "stderr",
     "output_type": "stream",
     "text": [
      "100%|██████████| 7396/7396 [00:12<00:00, 596.88it/s]\n",
      "  2%|▏         | 63/3251 [00:00<00:05, 625.55it/s]"
     ]
    },
    {
     "name": "stdout",
     "output_type": "stream",
     "text": [
      "Processing: times\n"
     ]
    },
    {
     "name": "stderr",
     "output_type": "stream",
     "text": [
      "100%|██████████| 3251/3251 [00:05<00:00, 619.15it/s]\n",
      "  0%|          | 45/14355 [00:00<00:32, 446.85it/s]"
     ]
    },
    {
     "name": "stdout",
     "output_type": "stream",
     "text": [
      "Processing: )\n"
     ]
    },
    {
     "name": "stderr",
     "output_type": "stream",
     "text": [
      "100%|██████████| 14355/14355 [00:24<00:00, 596.96it/s]\n"
     ]
    }
   ],
   "source": [
    "label_map = {\n",
    "    '+': 10,\n",
    "    '-': 11,\n",
    "    'times': 12,\n",
    "    'forward_slash': 13,\n",
    "    '(': 14,\n",
    "    ')': 15\n",
    "}\n",
    "\n",
    "dataset = []\n",
    "\n",
    "for symbol in os.listdir(\"dataset/\"):\n",
    "    try:\n",
    "        label = int(symbol)\n",
    "    except:\n",
    "        label = label_map[symbol]\n",
    "    \n",
    "    print('Processing: {}'.format(symbol))\n",
    "    for image in tqdm(os.listdir(os.path.join('dataset', symbol))):\n",
    "        image_path = os.path.join('dataset', symbol, image)\n",
    "        features = vectorize(image_path)\n",
    "        dataset.append('{};{};{}'.format(features, image_path, label))"
   ]
  },
  {
   "cell_type": "code",
   "execution_count": 12,
   "metadata": {},
   "outputs": [],
   "source": [
    "with open('dataset.csv', 'w') as out:\n",
    "    out.write('\\n'.join(dataset))"
   ]
  },
  {
   "cell_type": "code",
   "execution_count": null,
   "metadata": {},
   "outputs": [],
   "source": []
  }
 ],
 "metadata": {
  "kernelspec": {
   "display_name": "Python 3",
   "language": "python",
   "name": "python3"
  },
  "language_info": {
   "codemirror_mode": {
    "name": "ipython",
    "version": 3
   },
   "file_extension": ".py",
   "mimetype": "text/x-python",
   "name": "python",
   "nbconvert_exporter": "python",
   "pygments_lexer": "ipython3",
   "version": "3.8.3"
  }
 },
 "nbformat": 4,
 "nbformat_minor": 4
}
