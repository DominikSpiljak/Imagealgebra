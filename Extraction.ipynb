{
 "cells": [
  {
   "cell_type": "code",
   "execution_count": 1,
   "metadata": {},
   "outputs": [],
   "source": [
    "import cv2 as cv\n",
    "import numpy\n",
    "import matplotlib.pyplot as plt"
   ]
  },
  {
   "cell_type": "code",
   "execution_count": 8,
   "metadata": {},
   "outputs": [],
   "source": [
    "def load_and_process_image(path):\n",
    "    img = cv.imread(path)\n",
    "    img_gray = cv.cvtColor(img, cv.COLOR_BGR2GRAY)\n",
    "    img_invert = cv.bitwise_not(img_gray)\n",
    "    return img_invert\n",
    "\n",
    "def find_and_crop_bounding_box(image):\n",
    "    ret, thresh = cv.threshold(image, 127, 255, 0)\n",
    "    contours, hierarchy = cv.findContours(thresh, cv.RETR_TREE, cv.CHAIN_APPROX_SIMPLE)\n",
    "\n",
    "    #In case of multiple contours, take one with the biggest area\n",
    "    x, y, width, height = cv.boundingRect(sorted(contours, key=cv.contourArea)[-1])\n",
    "    image = image[y:y+height, x:x+width]\n",
    "    return image\n",
    "\n",
    "def vectorize(path):\n",
    "    img = load_and_process_image(path)\n",
    "    img = find_and_crop_bounding_box(img)\n",
    "    img = cv.resize(img, (30, 30))\n",
    "    img = img.reshape(900,)\n",
    "    return img"
   ]
  },
  {
   "cell_type": "code",
   "execution_count": 9,
   "metadata": {},
   "outputs": [
    {
     "name": "stdout",
     "output_type": "stream",
     "text": [
      "[  1   0   0   0   2   0   1   1   0  27 227 209 191 190 190 191 191 190\n",
      " 153  65  64  64  32   1   1   0   0   0   0   0   0   1   0   0   0   1\n",
      "   1   0  57 179  76  19   1   1   1   0   1   1  19  63  64 198 128   0\n",
      "   0   3   1   0   0   0   2   0   0   1   0   0  45 159 178   0   1   3\n",
      "   2   0   0   1   0   0   0   1   2 134 127  44   1   0   1   0   0   0\n",
      "   1   0   0   1   0   0 178 159 102 172  21   1   0   0   0   0   1   2\n",
      "   2   0   0   1  32 102 172  20   1   0   0   0   0   0   0   1   0   1\n",
      " 178 255 179   1   0   2   1   0   0   1   1   1   1   2   1   1   1  76\n",
      " 229  26   1   0   0   0   0   0   0   0   0   1 179 159  45   0   0   0\n",
      "   0   0   0   0   0   1   0   1   0   1   1  19  76 178  57   0   1   0\n",
      "   1   1   1   0   0   1 178 127   0   0   0   0   0   0   0   0   0   0\n",
      "   1   2   0   1   1   1  25 229  77   1   0   0   2   0   0   0  20 171\n",
      " 102  32   0   0   0   0   0   0   0   0   0   0   0   2   1   1   1   1\n",
      "   8  57 153  96   1   0   1   0   1   2  25 229  77   0   0   0   0   0\n",
      "   0   0   0   0   0   1   1   0   2   1   1   2   0   0 178 127   1   4\n",
      "   1   0   0  57 178  77  19   0   0   0   0   0   0   0   0   0   0   0\n",
      "   0   1   1   0   0   1   1   0  46 129 134   0   0   0   0  76 229  25\n",
      "   0   0   0   0   0   0   0   0   0   0   0   0   1   1   0   0   0   0\n",
      "   0   2   1  96 153  64   1   0  96 153  57   6   0   0   0   0   0   0\n",
      "   0   0   0   0   0   0   0   0   0   0   0   0   0   0   0   0  76 255\n",
      "   0   1 128 178   0   1   0   0   0   0   0   0   0   0   0   0   0   0\n",
      "   0   0   0   0   0   0   0   0   0   0  76 255   0 134 127  45   0   0\n",
      "   1   1   0   0   0   0   0   0   0   0   0   0   0   0   0   0   0   0\n",
      "   0   0   0   0  76 255   0 178 128   1   0   0   0   0   0   0   0   0\n",
      "   0   0   0   0   0   0   0   0   0   0   0   0   0   0   0   0  76 255\n",
      " 191 102  32   0   0   0   0   0   0   0   0   0   0   0   0   0   0   0\n",
      "   0   0   0   0   0   0   0   0   0   0  76 255 255  76   0   0   0   0\n",
      "   0   0   0   0   0   0   0   0   0   0   0   0   0   0   0   0   0   0\n",
      "   0   0   0   0  76 255 255  76   0   0   0   0   0   0   0   0   0   0\n",
      "   0   0   0   0   0   0   0   0   0   0   0   0   0   0   0   0  76 255\n",
      " 255  76   0   0   0   0   0   0   0   0   0   0   0   0   0   0   0   0\n",
      "   0   0   0   0   0   0   0   0   0   0  76 255 255  76   0   0   0   0\n",
      "   0   0   0   0   0   0   0   0   0   0   0   0   0   0   0   0   0   0\n",
      "   0   0   0   0  76 255 255  76   0   0   0   0   0   0   0   0   0   0\n",
      "   0   0   0   0   0   0   0   0   0   0   0   0   0   0   0   0  76 255\n",
      " 255  76   0   0   0   0   0   0   0   0   0   0   0   0   0   0   0   1\n",
      "   1   0   0   2   2   0   0   1   0   0  76 255 255  76   0   0   0   0\n",
      "   0   0   0   0   0   0   0   0   0   0   0   0   0   1   1   1   1   0\n",
      "   1   0   0 127 178   0 255  76   0   0   0   0   0   0   0   0   0   0\n",
      "   0   0   0   0   0   1   1   0   1   1   1   1   3   1 134 127  46   3\n",
      " 255  76   0   0   0   0   0   0   0   0   0   0   0   0   0   0   0   0\n",
      "   0   2   0   0   0   1   7  58 153  96   0   0 255  76   0   0   0   0\n",
      "   0   0   0   0   0   0   0   0   0   0   0   0   0   1   0   0   0   1\n",
      "  27 228  77   2   2   0 255  76   0   0   0   0   0   0   0   0   0   0\n",
      "   0   0   0   0   0   0   1   0   2   1  33 102 170  20   0   0   0   2\n",
      "  64 152  96   1   1   0   0   0   0   0   0   0   0   0   0   0   0   1\n",
      "   1   1   0   1 128 178   0   4   1   0   0   0   1   1  96 153  63  64\n",
      "  20   1   0   0   0   0   0   0   0   0   0   0  19  78 179 190  96   1\n",
      "   0   1   2   1   0   0   1   0   0  20  65  64 153 191 191 191 191 191\n",
      " 191 191 191 191 191 191 153  58   6   1   1   0   0   1   0   0   0   0]\n"
     ]
    }
   ],
   "source": [
    "print(vectorize('dataset/0/0_100070.jpg'))"
   ]
  },
  {
   "cell_type": "code",
   "execution_count": null,
   "metadata": {},
   "outputs": [],
   "source": []
  }
 ],
 "metadata": {
  "kernelspec": {
   "display_name": "Python 3",
   "language": "python",
   "name": "python3"
  },
  "language_info": {
   "codemirror_mode": {
    "name": "ipython",
    "version": 3
   },
   "file_extension": ".py",
   "mimetype": "text/x-python",
   "name": "python",
   "nbconvert_exporter": "python",
   "pygments_lexer": "ipython3",
   "version": "3.8.3"
  }
 },
 "nbformat": 4,
 "nbformat_minor": 4
}
