{
 "cells": [
  {
   "cell_type": "code",
   "execution_count": 9,
   "metadata": {},
   "outputs": [],
   "source": [
    "from utils.image_processing import vectorize\n",
    "import os\n",
    "from tqdm import tqdm"
   ]
  },
  {
   "cell_type": "code",
   "execution_count": 10,
   "metadata": {},
   "outputs": [
    {
     "name": "stderr",
     "output_type": "stream",
     "text": [
      " 32%|███▏      | 997/3068 [00:00<00:00, 9961.79it/s]"
     ]
    },
    {
     "name": "stdout",
     "output_type": "stream",
     "text": [
      "Processing: 8\n"
     ]
    },
    {
     "name": "stderr",
     "output_type": "stream",
     "text": [
      "100%|██████████| 3068/3068 [00:00<00:00, 9835.67it/s]\n",
      "  4%|▍         | 1136/25684 [00:00<00:02, 11356.73it/s]"
     ]
    },
    {
     "name": "stdout",
     "output_type": "stream",
     "text": [
      "Processing: 1\n"
     ]
    },
    {
     "name": "stderr",
     "output_type": "stream",
     "text": [
      "100%|██████████| 25684/25684 [00:02<00:00, 11319.37it/s]\n",
      "  4%|▎         | 916/26141 [00:00<00:02, 9152.31it/s]"
     ]
    },
    {
     "name": "stdout",
     "output_type": "stream",
     "text": [
      "Processing: 2\n"
     ]
    },
    {
     "name": "stderr",
     "output_type": "stream",
     "text": [
      "100%|██████████| 26141/26141 [00:02<00:00, 10267.95it/s]\n",
      " 14%|█▎        | 939/6914 [00:00<00:00, 9384.73it/s]"
     ]
    },
    {
     "name": "stdout",
     "output_type": "stream",
     "text": [
      "Processing: 0\n"
     ]
    },
    {
     "name": "stderr",
     "output_type": "stream",
     "text": [
      "100%|██████████| 6914/6914 [00:00<00:00, 9750.48it/s]\n",
      " 29%|██▉       | 909/3118 [00:00<00:00, 9089.77it/s]"
     ]
    },
    {
     "name": "stdout",
     "output_type": "stream",
     "text": [
      "Processing: 6\n"
     ]
    },
    {
     "name": "stderr",
     "output_type": "stream",
     "text": [
      "100%|██████████| 3118/3118 [00:00<00:00, 9298.38it/s]\n",
      " 10%|▉         | 1038/10909 [00:00<00:00, 10367.28it/s]"
     ]
    },
    {
     "name": "stdout",
     "output_type": "stream",
     "text": [
      "Processing: 3\n"
     ]
    },
    {
     "name": "stderr",
     "output_type": "stream",
     "text": [
      "100%|██████████| 10909/10909 [00:01<00:00, 8819.38it/s]\n",
      "  4%|▍         | 1040/25112 [00:00<00:02, 10387.38it/s]"
     ]
    },
    {
     "name": "stdout",
     "output_type": "stream",
     "text": [
      "Processing: +\n"
     ]
    },
    {
     "name": "stderr",
     "output_type": "stream",
     "text": [
      "100%|██████████| 25112/25112 [00:02<00:00, 10772.43it/s]\n",
      "100%|██████████| 199/199 [00:00<00:00, 10873.72it/s]\n",
      " 28%|██▊       | 1028/3737 [00:00<00:00, 10274.23it/s]"
     ]
    },
    {
     "name": "stdout",
     "output_type": "stream",
     "text": [
      "Processing: forward_slash\n",
      "Processing: 9\n"
     ]
    },
    {
     "name": "stderr",
     "output_type": "stream",
     "text": [
      "100%|██████████| 3737/3737 [00:00<00:00, 10001.07it/s]\n",
      "  3%|▎         | 1184/33986 [00:00<00:02, 11838.77it/s]"
     ]
    },
    {
     "name": "stdout",
     "output_type": "stream",
     "text": [
      "Processing: -\n"
     ]
    },
    {
     "name": "stderr",
     "output_type": "stream",
     "text": [
      "100%|██████████| 33986/33986 [00:02<00:00, 11675.84it/s]\n",
      "  8%|▊         | 1118/14276 [00:00<00:01, 11177.83it/s]"
     ]
    },
    {
     "name": "stdout",
     "output_type": "stream",
     "text": [
      "Processing: (\n"
     ]
    },
    {
     "name": "stderr",
     "output_type": "stream",
     "text": [
      "100%|██████████| 14276/14276 [00:01<00:00, 11488.37it/s]\n",
      " 36%|███▌      | 1046/2909 [00:00<00:00, 10455.10it/s]"
     ]
    },
    {
     "name": "stdout",
     "output_type": "stream",
     "text": [
      "Processing: 7\n"
     ]
    },
    {
     "name": "stderr",
     "output_type": "stream",
     "text": [
      "100%|██████████| 2909/2909 [00:00<00:00, 10514.96it/s]\n",
      " 30%|██▉       | 1047/3545 [00:00<00:00, 10468.66it/s]"
     ]
    },
    {
     "name": "stdout",
     "output_type": "stream",
     "text": [
      "Processing: 5\n"
     ]
    },
    {
     "name": "stderr",
     "output_type": "stream",
     "text": [
      "100%|██████████| 3545/3545 [00:00<00:00, 10417.48it/s]\n",
      " 14%|█▍        | 1048/7396 [00:00<00:00, 10473.57it/s]"
     ]
    },
    {
     "name": "stdout",
     "output_type": "stream",
     "text": [
      "Processing: 4\n"
     ]
    },
    {
     "name": "stderr",
     "output_type": "stream",
     "text": [
      "100%|██████████| 7396/7396 [00:00<00:00, 10282.31it/s]\n",
      " 32%|███▏      | 1046/3251 [00:00<00:00, 10458.31it/s]"
     ]
    },
    {
     "name": "stdout",
     "output_type": "stream",
     "text": [
      "Processing: times\n"
     ]
    },
    {
     "name": "stderr",
     "output_type": "stream",
     "text": [
      "100%|██████████| 3251/3251 [00:00<00:00, 10214.87it/s]\n",
      "  8%|▊         | 1128/14355 [00:00<00:01, 11278.34it/s]"
     ]
    },
    {
     "name": "stdout",
     "output_type": "stream",
     "text": [
      "Processing: )\n"
     ]
    },
    {
     "name": "stderr",
     "output_type": "stream",
     "text": [
      "100%|██████████| 14355/14355 [00:01<00:00, 11288.62it/s]\n"
     ]
    }
   ],
   "source": [
    "label_map = {\n",
    "    '+': 10,\n",
    "    '-': 11,\n",
    "    'times': 12,\n",
    "    'forward_slash': 13,\n",
    "    '(': 14,\n",
    "    ')': 15\n",
    "}\n",
    "\n",
    "X = []\n",
    "y = []\n",
    "file_names = []\n",
    "\n",
    "for symbol in os.listdir(\"dataset/\"):\n",
    "    try:\n",
    "        label = int(symbol)\n",
    "    except:\n",
    "        label = label_map[symbol]\n",
    "    \n",
    "    print('Processing: {}'.format(symbol))\n",
    "    for image in tqdm(os.listdir(os.path.join('dataset', symbol))):\n",
    "        image_path = os.path.join('dataset', symbol, image)\n",
    "        features = vectorize(image_path)\n",
    "        X.append(features)\n",
    "        y.append(label)\n",
    "\n",
    "X = np.array(X)\n",
    "y = np.array(y)"
   ]
  },
  {
   "cell_type": "code",
   "execution_count": 11,
   "metadata": {},
   "outputs": [],
   "source": [
    "np.savez('data.npz', X=X, y=y)"
   ]
  },
  {
   "cell_type": "code",
   "execution_count": null,
   "metadata": {},
   "outputs": [],
   "source": []
  }
 ],
 "metadata": {
  "kernelspec": {
   "display_name": "Python 3",
   "language": "python",
   "name": "python3"
  },
  "language_info": {
   "codemirror_mode": {
    "name": "ipython",
    "version": 3
   },
   "file_extension": ".py",
   "mimetype": "text/x-python",
   "name": "python",
   "nbconvert_exporter": "python",
   "pygments_lexer": "ipython3",
   "version": "3.8.3"
  }
 },
 "nbformat": 4,
 "nbformat_minor": 4
}
